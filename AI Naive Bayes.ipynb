{
  "nbformat": 4,
  "nbformat_minor": 0,
  "metadata": {
    "colab": {
      "name": "Untitled6.ipynb",
      "provenance": []
    },
    "kernelspec": {
      "name": "python3",
      "display_name": "Python 3"
    },
    "language_info": {
      "name": "python"
    }
  },
  "cells": [
    {
      "cell_type": "code",
      "execution_count": 5,
      "metadata": {
        "id": "uPrQ_cJpZBfq"
      },
      "outputs": [],
      "source": [
        "import numpy as np\n",
        "import matplotlib\n",
        "import matplotlib.pyplot as plt\n",
        "import pandas as pd\n",
        "from sklearn.metrics import classification_report\n",
        "from tqdm import tqdm\n",
        "from time import time\n",
        "\n",
        "from keras.datasets import mnist\n",
        "(x_train, y_train), (x_test, y_test) = mnist.load_data()\n",
        "x_train=x_train.reshape(60000,784)\n",
        "x_test=x_test.reshape(10000,784)\n",
        "data=np.zeros([70000,784])\n",
        "data[:60000,:]=x_train; data[60000:,:]=x_test\n",
        "label=np.zeros(70000)\n",
        "label[:60000]=y_train; label[60000:]=y_test\n",
        "\n",
        "def naive_bayes(data,label):\n",
        "    n_s,n_f=data.shape          #Find the Shape (Samples,Features) of the data\n",
        "    classes=np.unique(label)    #Find the Unique Classes in the Data\n",
        "    n_c=len(classes)            #Number of Classes in the Data\n",
        "    total_data=np.zeros([n_s,n_f+1]) #Create a Zero Matrix with (Samples,Feature+1) dimensions\n",
        "    total_data[:,:-1]=data           #Save the samples & features in the total_data matrix\n",
        "    total_data[:,-1]=label           #Save the Labels in the total_data matrix\n",
        "    trainX=total_data[:60000,:]      #Train Data is taken from total Data\n",
        "    np.random.shuffle(trainX)        #Train Data is shuffled once again        \n",
        "    testX=total_data[60000:,:]       #Test Data is taken from Total Data\n",
        "    np.random.shuffle(testX)         #Test Data is shuffled once again\n",
        "    testX_c=testX[:,:-1]             #Take the samples and feature from Test Data\n",
        "    testX_l=testX[:,-1]              #Take the labels from Test Data\n",
        "    mean_v=np.zeros([n_c,n_f])       #Take a Zero Matrix that will be used to store the mean of Features wrt classes\n",
        "    var_v=np.zeros([n_c,n_f])        #Take a Zero Matrix that will be used to store the variance of Features wrt classes\n",
        "    c_prob=[]                        #list to store P(class)\n",
        "    confusion_matrix=np.zeros([n_c,n_c]) #Take a Zero Matrix for Confusion MAtrix of size (classes*classes)\n",
        "    d_acc=[]                         #Take a list that will save each class(digit) accuracy\n",
        "    \n",
        "    for c in classes:\n",
        "        trainX_c=trainX[trainX[:,-1]==c]   #Filter samples for each class\n",
        "        trainX_c=trainX_c[:,:-1]           #\n",
        "        c_prob.append(len(trainX_c)/len(trainX))\n",
        "        mean_v[int(c),:]=trainX_c.mean(axis=0)#Find mean of each class & save in corresonding mean matrix\n",
        "        var_v[int(c),:]=trainX_c.var(axis=0)#Find variance of each class & save in corresonding mean matrix\n",
        "    \n",
        "    var_v=var_v+1000    #Since variance is 0 for many pixels, we need to add some value to the variance. \n",
        "                        #Adding 1000 gives one of the best accuracies\n",
        "    count=0             \n",
        "    \n",
        "    for i in range(testX.shape[0]):\n",
        "        lists=[]   #Empty list to store probability of all class for ith sample feature \n",
        "        for j in range(n_c):\n",
        "            ###################################\n",
        "            # Fill the equations below\n",
        "            ###################################\n",
        "            #\n",
        "            numerator=np.exp(-((testX_c[i]-mean_v[j])**2)/(2*var_v[j])) \n",
        "            denominator=np.sqrt(2*np.pi*(var_v[j]))\n",
        "            #\n",
        "            ###################################\n",
        "            prob_xc=numerator/denominator\n",
        "            ratio=np.sum(np.log(prob_xc)) \n",
        "            lists.append(ratio) #Append Probability of jth class for ith feature \n",
        "        \n",
        "        pred=lists.index(max(lists)) #Take y predicted for the classthat has the maximum probability for jth feature vector\n",
        "        if pred == testX_l[i]: \n",
        "            count=count+1 #If y_predicted equals true y label,count is incremented\n",
        "            confusion_matrix[int(testX_l[i])][int(testX_l[i])]=confusion_matrix[int(testX_l[i])][int(testX_l[i])]+1\n",
        "            #Values in corresponding confusion matrix is appended\n",
        "        else:\n",
        "            for k in range(n_c):\n",
        "                if pred == k:\n",
        "                    confusion_matrix[int(testX_l[k])][int(testX_l[i])]=confusion_matrix[int(testX_l[k])][int(testX_l[i])]+1\n",
        "                    #Values in corresponding confusion matrix is appended\n",
        "    for l in classes:\n",
        "        check=testX[testX[:,-1]==l] #Filter features for each class\n",
        "        a=(confusion_matrix[int(l)][int(l)])/check.shape[0] #Find accuracy of each digit\n",
        "        d_acc.append(a)   #Append individual digit accuracy\n",
        "    \n",
        "\n",
        "    o_acc=count/testX.shape[0] #Find overall Accuracy\n",
        "    return(d_acc,o_acc,confusion_matrix,mean_v,var_v)\n",
        "    #Return (Digit Accuracy,Overall Accuracy,Confusion Matrix,Mean & Variance)       "
      ]
    },
    {
      "cell_type": "code",
      "source": [
        "#Call Naive Bayes Function\n",
        "(digit_accuracy,overall_accuracy,matrix,mean_v,var_v)=naive_bayes(data,label)\n",
        "\n",
        "#Print All class Accuracy\n",
        "digit=['0', '1', '2', '3', '4', '5', '6','7','8','9']\n",
        "naive_df = pd.DataFrame(list(zip(digit, digit_accuracy)), columns =['Digit','Digit Accuracy']) \n",
        "print('Digit (Individual Class) Accuracy of the Samples:')\n",
        "naive_df"
      ],
      "metadata": {
        "colab": {
          "base_uri": "https://localhost:8080/",
          "height": 380
        },
        "id": "cru6vi41Zyj_",
        "outputId": "9ba7a992-b270-43b4-c75d-89da6640340a"
      },
      "execution_count": 6,
      "outputs": [
        {
          "output_type": "stream",
          "name": "stdout",
          "text": [
            "Digit (Individual Class) Accuracy of the Samples:\n"
          ]
        },
        {
          "output_type": "execute_result",
          "data": {
            "text/plain": [
              "  Digit  Digit Accuracy\n",
              "0     0        0.924490\n",
              "1     1        0.965639\n",
              "2     2        0.753876\n",
              "3     3        0.839604\n",
              "4     4        0.651731\n",
              "5     5        0.655830\n",
              "6     6        0.902923\n",
              "7     7        0.838521\n",
              "8     8        0.778234\n",
              "9     9        0.892963"
            ],
            "text/html": [
              "\n",
              "  <div id=\"df-5378a7ca-dd2d-4d49-a61e-44aef06e97e3\">\n",
              "    <div class=\"colab-df-container\">\n",
              "      <div>\n",
              "<style scoped>\n",
              "    .dataframe tbody tr th:only-of-type {\n",
              "        vertical-align: middle;\n",
              "    }\n",
              "\n",
              "    .dataframe tbody tr th {\n",
              "        vertical-align: top;\n",
              "    }\n",
              "\n",
              "    .dataframe thead th {\n",
              "        text-align: right;\n",
              "    }\n",
              "</style>\n",
              "<table border=\"1\" class=\"dataframe\">\n",
              "  <thead>\n",
              "    <tr style=\"text-align: right;\">\n",
              "      <th></th>\n",
              "      <th>Digit</th>\n",
              "      <th>Digit Accuracy</th>\n",
              "    </tr>\n",
              "  </thead>\n",
              "  <tbody>\n",
              "    <tr>\n",
              "      <th>0</th>\n",
              "      <td>0</td>\n",
              "      <td>0.924490</td>\n",
              "    </tr>\n",
              "    <tr>\n",
              "      <th>1</th>\n",
              "      <td>1</td>\n",
              "      <td>0.965639</td>\n",
              "    </tr>\n",
              "    <tr>\n",
              "      <th>2</th>\n",
              "      <td>2</td>\n",
              "      <td>0.753876</td>\n",
              "    </tr>\n",
              "    <tr>\n",
              "      <th>3</th>\n",
              "      <td>3</td>\n",
              "      <td>0.839604</td>\n",
              "    </tr>\n",
              "    <tr>\n",
              "      <th>4</th>\n",
              "      <td>4</td>\n",
              "      <td>0.651731</td>\n",
              "    </tr>\n",
              "    <tr>\n",
              "      <th>5</th>\n",
              "      <td>5</td>\n",
              "      <td>0.655830</td>\n",
              "    </tr>\n",
              "    <tr>\n",
              "      <th>6</th>\n",
              "      <td>6</td>\n",
              "      <td>0.902923</td>\n",
              "    </tr>\n",
              "    <tr>\n",
              "      <th>7</th>\n",
              "      <td>7</td>\n",
              "      <td>0.838521</td>\n",
              "    </tr>\n",
              "    <tr>\n",
              "      <th>8</th>\n",
              "      <td>8</td>\n",
              "      <td>0.778234</td>\n",
              "    </tr>\n",
              "    <tr>\n",
              "      <th>9</th>\n",
              "      <td>9</td>\n",
              "      <td>0.892963</td>\n",
              "    </tr>\n",
              "  </tbody>\n",
              "</table>\n",
              "</div>\n",
              "      <button class=\"colab-df-convert\" onclick=\"convertToInteractive('df-5378a7ca-dd2d-4d49-a61e-44aef06e97e3')\"\n",
              "              title=\"Convert this dataframe to an interactive table.\"\n",
              "              style=\"display:none;\">\n",
              "        \n",
              "  <svg xmlns=\"http://www.w3.org/2000/svg\" height=\"24px\"viewBox=\"0 0 24 24\"\n",
              "       width=\"24px\">\n",
              "    <path d=\"M0 0h24v24H0V0z\" fill=\"none\"/>\n",
              "    <path d=\"M18.56 5.44l.94 2.06.94-2.06 2.06-.94-2.06-.94-.94-2.06-.94 2.06-2.06.94zm-11 1L8.5 8.5l.94-2.06 2.06-.94-2.06-.94L8.5 2.5l-.94 2.06-2.06.94zm10 10l.94 2.06.94-2.06 2.06-.94-2.06-.94-.94-2.06-.94 2.06-2.06.94z\"/><path d=\"M17.41 7.96l-1.37-1.37c-.4-.4-.92-.59-1.43-.59-.52 0-1.04.2-1.43.59L10.3 9.45l-7.72 7.72c-.78.78-.78 2.05 0 2.83L4 21.41c.39.39.9.59 1.41.59.51 0 1.02-.2 1.41-.59l7.78-7.78 2.81-2.81c.8-.78.8-2.07 0-2.86zM5.41 20L4 18.59l7.72-7.72 1.47 1.35L5.41 20z\"/>\n",
              "  </svg>\n",
              "      </button>\n",
              "      \n",
              "  <style>\n",
              "    .colab-df-container {\n",
              "      display:flex;\n",
              "      flex-wrap:wrap;\n",
              "      gap: 12px;\n",
              "    }\n",
              "\n",
              "    .colab-df-convert {\n",
              "      background-color: #E8F0FE;\n",
              "      border: none;\n",
              "      border-radius: 50%;\n",
              "      cursor: pointer;\n",
              "      display: none;\n",
              "      fill: #1967D2;\n",
              "      height: 32px;\n",
              "      padding: 0 0 0 0;\n",
              "      width: 32px;\n",
              "    }\n",
              "\n",
              "    .colab-df-convert:hover {\n",
              "      background-color: #E2EBFA;\n",
              "      box-shadow: 0px 1px 2px rgba(60, 64, 67, 0.3), 0px 1px 3px 1px rgba(60, 64, 67, 0.15);\n",
              "      fill: #174EA6;\n",
              "    }\n",
              "\n",
              "    [theme=dark] .colab-df-convert {\n",
              "      background-color: #3B4455;\n",
              "      fill: #D2E3FC;\n",
              "    }\n",
              "\n",
              "    [theme=dark] .colab-df-convert:hover {\n",
              "      background-color: #434B5C;\n",
              "      box-shadow: 0px 1px 3px 1px rgba(0, 0, 0, 0.15);\n",
              "      filter: drop-shadow(0px 1px 2px rgba(0, 0, 0, 0.3));\n",
              "      fill: #FFFFFF;\n",
              "    }\n",
              "  </style>\n",
              "\n",
              "      <script>\n",
              "        const buttonEl =\n",
              "          document.querySelector('#df-5378a7ca-dd2d-4d49-a61e-44aef06e97e3 button.colab-df-convert');\n",
              "        buttonEl.style.display =\n",
              "          google.colab.kernel.accessAllowed ? 'block' : 'none';\n",
              "\n",
              "        async function convertToInteractive(key) {\n",
              "          const element = document.querySelector('#df-5378a7ca-dd2d-4d49-a61e-44aef06e97e3');\n",
              "          const dataTable =\n",
              "            await google.colab.kernel.invokeFunction('convertToInteractive',\n",
              "                                                     [key], {});\n",
              "          if (!dataTable) return;\n",
              "\n",
              "          const docLinkHtml = 'Like what you see? Visit the ' +\n",
              "            '<a target=\"_blank\" href=https://colab.research.google.com/notebooks/data_table.ipynb>data table notebook</a>'\n",
              "            + ' to learn more about interactive tables.';\n",
              "          element.innerHTML = '';\n",
              "          dataTable['output_type'] = 'display_data';\n",
              "          await google.colab.output.renderOutput(dataTable, element);\n",
              "          const docLink = document.createElement('div');\n",
              "          docLink.innerHTML = docLinkHtml;\n",
              "          element.appendChild(docLink);\n",
              "        }\n",
              "      </script>\n",
              "    </div>\n",
              "  </div>\n",
              "  "
            ]
          },
          "metadata": {},
          "execution_count": 6
        }
      ]
    },
    {
      "cell_type": "code",
      "source": [
        "#Print Overall Accuracy\n",
        "print('Overall Accuracy of Naive Bayes Model: '+str(overall_accuracy))\n",
        "overall_accuracy"
      ],
      "metadata": {
        "colab": {
          "base_uri": "https://localhost:8080/"
        },
        "id": "zqlCGlxVZ2Me",
        "outputId": "01c4959e-6112-451d-8ae1-ee9f7768231f"
      },
      "execution_count": 7,
      "outputs": [
        {
          "output_type": "stream",
          "name": "stdout",
          "text": [
            "Overall Accuracy of Naive Bayes Model: 0.8149\n"
          ]
        },
        {
          "output_type": "execute_result",
          "data": {
            "text/plain": [
              "0.8149"
            ]
          },
          "metadata": {},
          "execution_count": 7
        }
      ]
    },
    {
      "cell_type": "code",
      "source": [
        "#Print Mean of each Class in 28*28 Form\n",
        "plt.figure(figsize=(16,8))\n",
        "for i in range(mean_v.shape[0]):\n",
        "    plt.subplot(2,5, i+1)\n",
        "    img = mean_v[i].reshape(28,28)\n",
        "    plt.imshow(img, cmap=\"Greys\")\n",
        "    plt.xlabel('Image of digit '+str(i)+' Mean',fontsize = 12)"
      ],
      "metadata": {
        "colab": {
          "base_uri": "https://localhost:8080/",
          "height": 457
        },
        "id": "cjVwV2KHZ5e-",
        "outputId": "aa08ceec-0ec5-4adf-c0e1-43789da191c8"
      },
      "execution_count": 8,
      "outputs": [
        {
          "output_type": "display_data",
          "data": {
            "text/plain": [
              "<Figure size 1152x576 with 10 Axes>"
            ],
            "image/png": "[encoded data removed]"
          },
          "metadata": {
            "needs_background": "light"
          }
        }
      ]
    }
  ]
}